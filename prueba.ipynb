{
 "cells": [
  {
   "cell_type": "code",
   "execution_count": 1,
   "metadata": {},
   "outputs": [
    {
     "name": "stdout",
     "output_type": "stream",
     "text": [
      "lorem ipsum\n",
      "4\n"
     ]
    }
   ],
   "source": [
    "print(\"lorem ipsum\")\n",
    "print(2+2)"
   ]
  },
  {
   "cell_type": "code",
   "execution_count": 2,
   "metadata": {},
   "outputs": [
    {
     "name": "stdout",
     "output_type": "stream",
     "text": [
      "juanca\n"
     ]
    }
   ],
   "source": [
    "from juanca import juanca\n",
    "juanca(1)"
   ]
  },
  {
   "cell_type": "code",
   "execution_count": 3,
   "metadata": {},
   "outputs": [
    {
     "name": "stdout",
     "output_type": "stream",
     "text": [
      "juanca\n",
      "el de arriba sabe\n"
     ]
    }
   ],
   "source": [
    "juanca(1)\n",
    "print(\"el de arriba sabe...\")"
   ]
  }
 ],
 "metadata": {
  "kernelspec": {
   "display_name": "Python 3.8.13 ('dhdsblend2021')",
   "language": "python",
   "name": "python3"
  },
  "language_info": {
   "codemirror_mode": {
    "name": "ipython",
    "version": 3
   },
   "file_extension": ".py",
   "mimetype": "text/x-python",
   "name": "python",
   "nbconvert_exporter": "python",
   "pygments_lexer": "ipython3",
   "version": "3.8.13"
  },
  "orig_nbformat": 4,
  "vscode": {
   "interpreter": {
    "hash": "1edc32208bafb8eac68481cec38978b2c875ab049914cfb62667b7898b1c7b7b"
   }
  }
 },
 "nbformat": 4,
 "nbformat_minor": 2
}
