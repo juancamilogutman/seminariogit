{
 "cells": [
  {
   "cell_type": "code",
   "execution_count": 6,
   "metadata": {},
   "outputs": [
    {
     "name": "stdout",
     "output_type": "stream",
     "text": [
      "lorem ipsum\n",
      "4\n"
     ]
    }
   ],
   "source": [
    "print(\"lorem ipsum\")\n",
    "print(2+2)"
   ]
  },
  {
   "cell_type": "code",
   "execution_count": 7,
   "metadata": {},
   "outputs": [
    {
     "name": "stdout",
     "output_type": "stream",
     "text": [
      "juanca\n",
      "juanca\n",
      "juanca\n",
      "juanca\n",
      "juanca\n"
     ]
    }
   ],
   "source": [
    "from script import juanca\n",
    "juanca(5)"
   ]
  }
 ],
 "metadata": {
  "kernelspec": {
   "display_name": "Python 3.8.13 ('dhdsblend2021')",
   "language": "python",
   "name": "python3"
  },
  "language_info": {
   "codemirror_mode": {
    "name": "ipython",
    "version": 3
   },
   "file_extension": ".py",
   "mimetype": "text/x-python",
   "name": "python",
   "nbconvert_exporter": "python",
   "pygments_lexer": "ipython3",
   "version": "3.8.13"
  },
  "orig_nbformat": 4,
  "vscode": {
   "interpreter": {
    "hash": "1edc32208bafb8eac68481cec38978b2c875ab049914cfb62667b7898b1c7b7b"
   }
  }
 },
 "nbformat": 4,
 "nbformat_minor": 2
}
